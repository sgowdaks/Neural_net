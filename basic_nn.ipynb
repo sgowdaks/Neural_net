import torch
import torch.nn as nn
import numpy as np

class Net(nn.Module):
    def __init__(self, input_dim, num_classes):
      super().__init__()
      self.linear = nn.Linear(input_dim, num_classes)
      print(input_dim)
      self.linear2 = nn.Linear(input_dim, num_classes)
      self.sigmoid = nn.Sigmoid()

    def forward(self, input):
      print(input)
      k = self.linear(input)
      print(k)
      l = self.linear2(k)
      return self.sigmoid(l)
      # return self.sigmoid(self.linear(self.linear(input)))

model = Net(2, 2)
x = torch.Tensor([1,2])
model(x)
