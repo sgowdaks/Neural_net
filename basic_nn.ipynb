{
  "nbformat": 4,
  "nbformat_minor": 0,
  "metadata": {
    "colab": {
      "name": "basic_nn.ipynb",
      "provenance": [],
      "collapsed_sections": []
    },
    "kernelspec": {
      "name": "python3",
      "display_name": "Python 3"
    },
    "language_info": {
      "name": "python"
    }
  },
  "cells": [
    {
      "cell_type": "code",
      "execution_count": 1,
      "metadata": {
        "id": "2LCOYbCFfJ3E"
      },
      "outputs": [],
      "source": [
        "import torch\n",
        "import torch.nn as nn\n",
        "import numpy as np"
      ]
    },
    {
      "cell_type": "code",
      "source": [
        "class Net(nn.Module):\n",
        "    def __init__(self, input_dim, num_classes):\n",
        "      super().__init__()\n",
        "      self.linear = nn.Linear(input_dim, num_classes)\n",
        "      print(input_dim)\n",
        "      self.linear2 = nn.Linear(input_dim, num_classes)\n",
        "      self.sigmoid = nn.Sigmoid()\n",
        "\n",
        "    def forward(self, input):\n",
        "      print(input)\n",
        "      k = self.linear(input)\n",
        "      print(k)\n",
        "      l = self.linear2(k)\n",
        "      return self.sigmoid(l)\n",
        "      # return self.sigmoid(self.linear(self.linear(input)))\n",
        "\n",
        "#nun of inputs\n",
        "#num of neurons\n",
        "model = Net(2, 2)\n",
        "x = torch.Tensor([1,2])\n",
        "model(x)"
      ],
      "metadata": {
        "colab": {
          "base_uri": "https://localhost:8080/"
        },
        "id": "tPBD0SpwfKm6",
        "outputId": "fce2df42-5d17-4fe1-9ccc-b5f945ce0db2"
      },
      "execution_count": 3,
      "outputs": [
        {
          "output_type": "stream",
          "name": "stdout",
          "text": [
            "2\n",
            "tensor([1., 2.])\n",
            "tensor([ 1.1288, -1.3121], grad_fn=<AddBackward0>)\n"
          ]
        },
        {
          "output_type": "execute_result",
          "data": {
            "text/plain": [
              "tensor([0.2405, 0.3730], grad_fn=<SigmoidBackward0>)"
            ]
          },
          "metadata": {},
          "execution_count": 3
        }
      ]
    },
    {
      "cell_type": "code",
      "source": [
        ""
      ],
      "metadata": {
        "id": "4wwfgmTxgA1D"
      },
      "execution_count": null,
      "outputs": []
    }
  ]
}