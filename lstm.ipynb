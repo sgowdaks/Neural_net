{
  "nbformat": 4,
  "nbformat_minor": 0,
  "metadata": {
    "colab": {
      "name": "lstm.ipynb",
      "provenance": [],
      "collapsed_sections": []
    },
    "kernelspec": {
      "name": "python3",
      "display_name": "Python 3"
    },
    "language_info": {
      "name": "python"
    }
  },
  "cells": [
    {
      "cell_type": "code",
      "source": [
        "import torch\n",
        "import torch.nn as nn"
      ],
      "metadata": {
        "id": "yuCxkXlAsAMz"
      },
      "execution_count": 8,
      "outputs": []
    },
    {
      "cell_type": "code",
      "source": [
        "if torch.cuda.is_available():\n",
        "  device = 'cuda'\n",
        "else:\n",
        "  device = 'cpu'\n",
        "print(device)"
      ],
      "metadata": {
        "colab": {
          "base_uri": "https://localhost:8080/"
        },
        "id": "o53HjiYssJrj",
        "outputId": "1b244acc-b4cf-4028-8356-18921b3e1cb6"
      },
      "execution_count": 9,
      "outputs": [
        {
          "output_type": "stream",
          "name": "stdout",
          "text": [
            "cpu\n"
          ]
        }
      ]
    },
    {
      "cell_type": "code",
      "source": [
        "class LSTM(nn.Module):\n",
        "    def __init__(self, num_input, h_dim, num_y):\n",
        "      super().__init__()\n",
        "      self.lstm = nn.LSTM(num_input, h_dim, num_layers=1, bidirectional=False)\n",
        "      self.linear = nn.Linear(h_dim , num_y)\n",
        "      self.sigmoid = nn.Sigmoid()\n",
        "\n",
        "    def forward(self, input):\n",
        "      out, (last_hidden, last_cell) = self.lstm(input)\n",
        "      return self.sigmoid(self.linear(last_hidden))\n",
        "\n",
        "model = LSTM(4, 50, 3)\n",
        "\n",
        "# LSTM input: tensor of shape (sequence length, batch size, num_input)\n",
        "x = torch.Tensor([[1, 1, 1,4], [1, 1, 1,4], [5,5,5,5]]).view(3, 1, 4)\n",
        "print(x)\n",
        "print(x.size())\n",
        "pred_y = model(x)\n",
        "print(pred_y)"
      ],
      "metadata": {
        "colab": {
          "base_uri": "https://localhost:8080/"
        },
        "id": "Ts78adUDsNDZ",
        "outputId": "ebd13b51-56ac-41ab-f99c-f818fe80bd2f"
      },
      "execution_count": 10,
      "outputs": [
        {
          "output_type": "stream",
          "name": "stdout",
          "text": [
            "tensor([[[1., 1., 1., 4.]],\n",
            "\n",
            "        [[1., 1., 1., 4.]],\n",
            "\n",
            "        [[5., 5., 5., 5.]]])\n",
            "torch.Size([3, 1, 4])\n",
            "tensor([[[0.5331, 0.4788, 0.4622]]], grad_fn=<SigmoidBackward0>)\n"
          ]
        }
      ]
    }
  ]
}